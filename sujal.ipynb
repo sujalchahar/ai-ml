{
 "cells": [
  {
   "cell_type": "code",
   "execution_count": 1,
   "id": "ceb82652-229d-4450-acad-a0170b5c420b",
   "metadata": {},
   "outputs": [
    {
     "name": "stdout",
     "output_type": "stream",
     "text": [
      "     Name age              city\n",
      "0   jeetu  18          barielly\n",
      "1  aditya  17  himachal pardesh\n",
      "2  humble  20             bihar\n",
      "3   sujal  19       uttarakhand\n",
      "['18' '17' '20' '19']\n",
      "0    18\n",
      "1    17\n",
      "2    20\n",
      "3    19\n",
      "dtype: object\n",
      "        0\n",
      "0  python\n",
      "1  pandas\n",
      "    id department\n",
      "0  101       b.sc\n",
      "1  102     b.tech\n",
      "2  103     m.tech\n",
      "{'one': a    1\n",
      "b    2\n",
      "c    3\n",
      "d    4\n",
      "e    5\n",
      "f    6\n",
      "dtype: int64}\n"
     ]
    }
   ],
   "source": [
    "import pandas as pd\n",
    "import numpy as np\n",
    "\n",
    "data={'Name':['jeetu','aditya','humble','sujal'],'age':['18','17','20','19'],'city':['barielly','himachal pardesh','bihar','uttarakhand']}\n",
    "df=pd.DataFrame(data)\n",
    "print(df)\n",
    "\n",
    "ages=np.array(df['age'])\n",
    "print(ages)\n",
    "\n",
    "m=pd.Series(ages)\n",
    "print(m)\n",
    "\n",
    "a=pd.Series(['java','c','C++',np.nan])\n",
    "a.map({'java':'core'})\n",
    "\n",
    "a.map('i like{}'.format,na_action='ignore')\n",
    "\n",
    "x=['python','pandas']\n",
    "df=pd.DataFrame(x)\n",
    "\n",
    "print(df)\n",
    "\n",
    "info={'id':[101,102,103],'department':['b.sc','b.tech','m.tech']}\n",
    "df=pd.DataFrame(info)\n",
    "print(df)\n",
    "\n",
    "info={'one':pd.Series([1,2,3,4,5,6],index=['a','b','c','d','e','f'])}\n",
    "print(info)\n",
    "\n"
   ]
  },
  {
   "cell_type": "code",
   "execution_count": 3,
   "id": "10ba9445-0fb6-4257-b5e6-fc0519422c00",
   "metadata": {},
   "outputs": [
    {
     "name": "stdout",
     "output_type": "stream",
     "text": [
      "add new column to an existing data frame object by passing Series\n",
      "   one  two  three\n",
      "a    1    1   20.0\n",
      "b    2    2   40.0\n",
      "c    3    3   60.0\n",
      "d    4    4    NaN\n",
      "e    5    5    NaN\n",
      "f    6    6    NaN\n"
     ]
    }
   ],
   "source": [
    "info={'one':pd.Series([1,2,3,4,5,6],index=['a','b','c','d','e','f']),'two':pd.Series([1,2,3,4,5,6],index=['a','b','c','d','e','f'])}\n",
    "df=pd.DataFrame(info)\n",
    "print(\"add new column to an existing data frame object by passing Series\")\n",
    "df['three']=pd.Series([20,40,60],index=['a','b','c'])\n",
    "print(df)   \n",
    "\n"
   ]
  },
  {
   "cell_type": "code",
   "execution_count": 4,
   "id": "82785865-19cc-41b0-96e7-fa3531be955a",
   "metadata": {},
   "outputs": [
    {
     "name": "stdout",
     "output_type": "stream",
     "text": [
      "ADD NEW COLUMN USING EXISTING DATAFRAME COLUMNS\n",
      "   one  two  three  four\n",
      "a    1    1   20.0  21.0\n",
      "b    2    2   40.0  42.0\n",
      "c    3    3   60.0  63.0\n",
      "d    4    4    NaN   NaN\n",
      "e    5    5    NaN   NaN\n",
      "f    6    6    NaN   NaN\n"
     ]
    }
   ],
   "source": [
    "print(\"ADD NEW COLUMN USING EXISTING DATAFRAME COLUMNS\")\n",
    "df['four']=df['one']+df['three']\n",
    "print(df)"
   ]
  },
  {
   "cell_type": "code",
   "execution_count": 5,
   "id": "b0d6aca5-a191-46d9-bbdc-48b931a541e9",
   "metadata": {},
   "outputs": [
    {
     "name": "stdout",
     "output_type": "stream",
     "text": [
      "using del function:--delete the first column\n",
      "   two  three  four\n",
      "a    1   20.0  21.0\n",
      "b    2   40.0  42.0\n",
      "c    3   60.0  63.0\n",
      "d    4    NaN   NaN\n",
      "e    5    NaN   NaN\n",
      "f    6    NaN   NaN\n"
     ]
    }
   ],
   "source": [
    "#COLUMN DELETION\n",
    "print(\"using del function:--delete the first column\")\n",
    "del df['one']\n",
    "print(df)"
   ]
  },
  {
   "cell_type": "code",
   "execution_count": 6,
   "id": "4e58a33d-432b-43b5-83a6-fb4babab0dd2",
   "metadata": {},
   "outputs": [
    {
     "name": "stdout",
     "output_type": "stream",
     "text": [
      "   three  four\n",
      "a   20.0  21.0\n",
      "b   40.0  42.0\n",
      "c   60.0  63.0\n",
      "d    NaN   NaN\n",
      "e    NaN   NaN\n",
      "f    NaN   NaN\n"
     ]
    }
   ],
   "source": [
    "#USING THE POP FUNCTION\n",
    "df.pop('two')\n",
    "print(df)"
   ]
  },
  {
   "cell_type": "code",
   "execution_count": 7,
   "id": "d3b99cee-3e25-4f1b-8238-493e691a28da",
   "metadata": {},
   "outputs": [
    {
     "name": "stdout",
     "output_type": "stream",
     "text": [
      "three    40.0\n",
      "four     42.0\n",
      "Name: b, dtype: float64\n"
     ]
    }
   ],
   "source": [
    "#SELECTION BY LABEL USING THE LOC FUNCTION\n",
    "print(df.loc['b'])"
   ]
  },
  {
   "cell_type": "code",
   "execution_count": 8,
   "id": "f97a0064-6bd8-4db0-8f3e-49f46e57fdf9",
   "metadata": {},
   "outputs": [
    {
     "name": "stdout",
     "output_type": "stream",
     "text": [
      "three   NaN\n",
      "four    NaN\n",
      "Name: d, dtype: float64\n"
     ]
    }
   ],
   "source": [
    "#SELECTION BY INTEGER LOCATION\n",
    "print(df.iloc[3])"
   ]
  },
  {
   "cell_type": "code",
   "execution_count": 9,
   "id": "a25d3fe4-e764-4fc2-9a8e-97b5fb02e6ba",
   "metadata": {},
   "outputs": [
    {
     "name": "stdout",
     "output_type": "stream",
     "text": [
      "   three  four\n",
      "c   60.0  63.0\n",
      "d    NaN   NaN\n",
      "e    NaN   NaN\n"
     ]
    }
   ],
   "source": [
    "#SLICE ROWS\n",
    "print(df[2:5])\n"
   ]
  },
  {
   "cell_type": "code",
   "execution_count": 30,
   "id": "4b3360f5-2a71-478d-9d58-38653b3c80ad",
   "metadata": {},
   "outputs": [
    {
     "data": {
      "text/html": [
       "<div>\n",
       "<style scoped>\n",
       "    .dataframe tbody tr th:only-of-type {\n",
       "        vertical-align: middle;\n",
       "    }\n",
       "\n",
       "    .dataframe tbody tr th {\n",
       "        vertical-align: top;\n",
       "    }\n",
       "\n",
       "    .dataframe thead th {\n",
       "        text-align: right;\n",
       "    }\n",
       "</style>\n",
       "<table border=\"1\" class=\"dataframe\">\n",
       "  <thead>\n",
       "    <tr style=\"text-align: right;\">\n",
       "      <th></th>\n",
       "      <th>A</th>\n",
       "      <th>B</th>\n",
       "    </tr>\n",
       "  </thead>\n",
       "  <tbody>\n",
       "    <tr>\n",
       "      <th>0</th>\n",
       "      <td>1</td>\n",
       "      <td>2</td>\n",
       "    </tr>\n",
       "    <tr>\n",
       "      <th>1</th>\n",
       "      <td>3</td>\n",
       "      <td>4</td>\n",
       "    </tr>\n",
       "    <tr>\n",
       "      <th>2</th>\n",
       "      <td>5</td>\n",
       "      <td>6</td>\n",
       "    </tr>\n",
       "  </tbody>\n",
       "</table>\n",
       "</div>"
      ],
      "text/plain": [
       "   A  B\n",
       "0  1  2\n",
       "1  3  4\n",
       "2  5  6"
      ]
     },
     "execution_count": 30,
     "metadata": {},
     "output_type": "execute_result"
    }
   ],
   "source": [
    "#ADDITION OF ROWS\n",
    "import pandas as pd\n",
    "\n",
    "data = {'A': [1, 3], 'B': [2, 4]}\n",
    "df = pd.DataFrame(data)\n",
    "pd.concat([df, pd.DataFrame([{'A': 5, 'B': 6}])], ignore_index=True)"
   ]
  },
  {
   "cell_type": "code",
   "execution_count": 33,
   "id": "9b8ab01e-8849-4a46-bc35-985034fbd93e",
   "metadata": {},
   "outputs": [
    {
     "name": "stdout",
     "output_type": "stream",
     "text": [
      "A    2\n",
      "B    2\n",
      "dtype: int64\n"
     ]
    }
   ],
   "source": [
    "print(df.count())"
   ]
  },
  {
   "cell_type": "code",
   "execution_count": 34,
   "id": "6dae8ff6-513a-41af-9a27-1971a57a7f92",
   "metadata": {},
   "outputs": [
    {
     "name": "stdout",
     "output_type": "stream",
     "text": [
      "              A         B\n",
      "count  2.000000  2.000000\n",
      "mean   2.000000  3.000000\n",
      "std    1.414214  1.414214\n",
      "min    1.000000  2.000000\n",
      "25%    1.500000  2.500000\n",
      "50%    2.000000  3.000000\n",
      "75%    2.500000  3.500000\n",
      "max    3.000000  4.000000\n"
     ]
    }
   ],
   "source": [
    "print(df.describe())"
   ]
  },
  {
   "cell_type": "code",
   "execution_count": 36,
   "id": "2deca970-e695-4367-aae0-22bd8774bb49",
   "metadata": {},
   "outputs": [
    {
     "data": {
      "text/html": [
       "<div>\n",
       "<style scoped>\n",
       "    .dataframe tbody tr th:only-of-type {\n",
       "        vertical-align: middle;\n",
       "    }\n",
       "\n",
       "    .dataframe tbody tr th {\n",
       "        vertical-align: top;\n",
       "    }\n",
       "\n",
       "    .dataframe thead th {\n",
       "        text-align: right;\n",
       "    }\n",
       "</style>\n",
       "<table border=\"1\" class=\"dataframe\">\n",
       "  <thead>\n",
       "    <tr style=\"text-align: right;\">\n",
       "      <th></th>\n",
       "      <th>A</th>\n",
       "      <th>D</th>\n",
       "    </tr>\n",
       "  </thead>\n",
       "  <tbody>\n",
       "    <tr>\n",
       "      <th>0</th>\n",
       "      <td>0</td>\n",
       "      <td>3</td>\n",
       "    </tr>\n",
       "    <tr>\n",
       "      <th>1</th>\n",
       "      <td>4</td>\n",
       "      <td>7</td>\n",
       "    </tr>\n",
       "    <tr>\n",
       "      <th>2</th>\n",
       "      <td>8</td>\n",
       "      <td>11</td>\n",
       "    </tr>\n",
       "  </tbody>\n",
       "</table>\n",
       "</div>"
      ],
      "text/plain": [
       "   A   D\n",
       "0  0   3\n",
       "1  4   7\n",
       "2  8  11"
      ]
     },
     "execution_count": 36,
     "metadata": {},
     "output_type": "execute_result"
    }
   ],
   "source": [
    "#DELETION OF ROWS\n",
    "data = pd.DataFrame(np.arange(12).reshape(3, 4),columns=['A', 'B', 'C', 'D'])\n",
    "data.drop(['B', 'C'], axis=1)\n"
   ]
  },
  {
   "cell_type": "code",
   "execution_count": null,
   "id": "8ab6b3e1-5982-4390-98a7-707247f2ee27",
   "metadata": {},
   "outputs": [],
   "source": []
  }
 ],
 "metadata": {
  "kernelspec": {
   "display_name": "Python 3 (ipykernel)",
   "language": "python",
   "name": "python3"
  },
  "language_info": {
   "codemirror_mode": {
    "name": "ipython",
    "version": 3
   },
   "file_extension": ".py",
   "mimetype": "text/x-python",
   "name": "python",
   "nbconvert_exporter": "python",
   "pygments_lexer": "ipython3",
   "version": "3.11.7"
  }
 },
 "nbformat": 4,
 "nbformat_minor": 5
}
